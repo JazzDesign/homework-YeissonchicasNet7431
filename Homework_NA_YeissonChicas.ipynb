{
  "nbformat": 4,
  "nbformat_minor": 0,
  "metadata": {
    "colab": {
      "name": "Homework-NA-YeissonChicas.ipynb",
      "provenance": [],
      "collapsed_sections": [
        "Ww9N_d2a4lAF",
        "jL3V2rMi6yfJ",
        "iycwghSHXPeH",
        "SinZmuwCX8HK",
        "1C2_-VQQY4ht",
        "8YCz7dfVZwCi",
        "GXTeYVHd_ifh",
        "h50z6FhPEo48",
        "CnZaGjjlF_7c"
      ],
      "toc_visible": true
    },
    "kernelspec": {
      "name": "python3",
      "display_name": "Python 3"
    }
  },
  "cells": [
    {
      "cell_type": "markdown",
      "metadata": {
        "id": "YLz8FHoA2yaS"
      },
      "source": [
        "<center>\n",
        "<img src=\"https://upload.wikimedia.org/wikipedia/fr/thumb/1/1d/Logo_T%C3%A9l%C3%A9com_SudParis.svg/1014px-Logo_T%C3%A9l%C3%A9com_SudParis.svg.png\" width=\"15%\"></img>\n",
        "</center>\n",
        "\n",
        "<center> <h2> NET 4103/7431 Complex Network </h2> </center>\n",
        "\n",
        "<center> <h3> Vincent Gauthier (vincent.gauthier@telecom-sudparis.eu) </h3> </center>\n",
        "\n",
        "<center>\n",
        "<h3>NET 4103/7431 Homework Network science and Graph Learning</h3>\n",
        "</center>"
      ]
    },
    {
      "cell_type": "code",
      "metadata": {
        "id": "87-rXCI223G9"
      },
      "source": [
        "NOM = \"CHICAS\"\n",
        "PRENOM = \"YEISSON\""
      ],
      "execution_count": 4,
      "outputs": []
    },
    {
      "cell_type": "markdown",
      "metadata": {
        "id": "4btfWfqG4Z-n"
      },
      "source": [
        "<h3>Solution</h3>"
      ]
    },
    {
      "cell_type": "markdown",
      "metadata": {
        "id": "Ww9N_d2a4lAF"
      },
      "source": [
        "###Setup and import"
      ]
    },
    {
      "cell_type": "code",
      "metadata": {
        "colab": {
          "base_uri": "https://localhost:8080/"
        },
        "id": "Hjbn4bre4kUG",
        "outputId": "15e9badb-8c2b-4d88-c8e3-af26a0828289"
      },
      "source": [
        "# Google Drive\n",
        "from google.colab import drive\n",
        "drive.mount('/content/drive') "
      ],
      "execution_count": 5,
      "outputs": [
        {
          "output_type": "stream",
          "text": [
            "Mounted at /content/drive\n"
          ],
          "name": "stdout"
        }
      ]
    },
    {
      "cell_type": "code",
      "metadata": {
        "colab": {
          "base_uri": "https://localhost:8080/",
          "height": 17
        },
        "id": "fbynvSyJ6cyz",
        "outputId": "8af28c01-c414-494c-a75c-c9578b413d74"
      },
      "source": [
        "# Style pour le Notebook\n",
        "from IPython.core.display import HTML\n",
        "\n",
        "def css_styling():\n",
        "    styles = open(\"/content/drive/My Drive/Colab Notebooks/NA/styles/custom.css\", \"r\").read()\n",
        "    return HTML(styles)\n",
        "css_styling()"
      ],
      "execution_count": 6,
      "outputs": [
        {
          "output_type": "execute_result",
          "data": {
            "text/html": [
              "<style>\n",
              "    div.cell{\n",
              "      margin-left:auto;\n",
              "      margin-right:auto;\n",
              "    }\n",
              "\n",
              "    h1,h2,h3,h4,h5 {\n",
              "      align: left;\n",
              "      font-family:\"Charis SIL\", serif;\n",
              "    }\n",
              "\n",
              "    div.text_cell_render{\n",
              "      /*\n",
              "      font-family: \"Charis SIL\", sans-serif;\n",
              "      */\n",
              "      line-height: 145%;\n",
              "      font-size: 145%;\n",
              "      line-height: 145%;\n",
              "    }\n",
              "\n",
              "\n",
              "    /*\n",
              "    .CodeMirror{\n",
              "      font-family: \"Source Code Pro\", monospace;\n",
              "    }\n",
              "    */\n",
              "    \n",
              "    .text_cell_render h5 {\n",
              "      font-weight: 300;\n",
              "      font-size: 22pt;\n",
              "      color: #4057A1;\n",
              "      font-style: italic;\n",
              "      margin-bottom: .5em;\n",
              "      margin-top: 0.5em;\n",
              "      display: block;\n",
              "    }\n",
              "\n",
              "    div.warn {\n",
              "      margin-top: 30px;\n",
              "      background-color: #fcf2f2;\n",
              "      border-color: #dFb5b4;\n",
              "      border-left: 5px solid #dfb5b4;\n",
              "      padding: 0.5em;\n",
              "    }\n",
              "\n",
              "    div.green {\n",
              "      margin-top: 30px;\n",
              "      background-color: #adf08d;\n",
              "      border-color: #34c123;\n",
              "      border-left: 5px solid #34c123;\n",
              "      padding: 0.5em;\n",
              "    }\n",
              "\n",
              "</style>\n"
            ],
            "text/plain": [
              "<IPython.core.display.HTML object>"
            ]
          },
          "metadata": {
            "tags": []
          },
          "execution_count": 6
        }
      ]
    },
    {
      "cell_type": "code",
      "metadata": {
        "id": "VWUrDyna6k7P"
      },
      "source": [
        "import networkx as nx\n",
        "import matplotlib.pylab as plt\n",
        "\n",
        "%matplotlib inline\n",
        "\n",
        "# Question 4\n",
        "import numpy as np\n",
        "from random import random, seed\n",
        "import math"
      ],
      "execution_count": 7,
      "outputs": []
    },
    {
      "cell_type": "markdown",
      "metadata": {
        "id": "20E2rjrx6uRp"
      },
      "source": [
        "### Question 1: Reading"
      ]
    },
    {
      "cell_type": "markdown",
      "metadata": {
        "id": "jL3V2rMi6yfJ"
      },
      "source": [
        "###Question 2: Social Network Analysis with the Facebook100 Dataset\n",
        "\n",
        "Lets use three networks from the FB100: Caltech (with 762 nodes in the LCC), MIT (which has 6402 nodes in the LCC), and Johns Hopkins (which has 5157 nodes in the LCC)."
      ]
    },
    {
      "cell_type": "code",
      "metadata": {
        "id": "R4H9ch7y7Wk-"
      },
      "source": [
        "import networkx as nx\n",
        "\n",
        "NCaltech = nx.read_graphml(\"/content/drive/My Drive/Colab Notebooks/NA/Homework/data/Caltech36.graphml\")\n",
        "NMIT = nx.read_graphml(\"/content/drive/My Drive/Colab Notebooks/NA/Homework/data/MIT8.graphml\")\n",
        "NJH = nx.read_graphml(\"/content/drive/My Drive/Colab Notebooks/NA/Homework/data/Johns Hopkins55.graphml\")"
      ],
      "execution_count": null,
      "outputs": []
    },
    {
      "cell_type": "markdown",
      "metadata": {
        "id": "nWlC4Ruo9zju"
      },
      "source": [
        "**(a) Plot Degree Distribution**"
      ]
    },
    {
      "cell_type": "code",
      "metadata": {
        "id": "DReekSwn-n1y"
      },
      "source": [
        "#Import libs\n",
        "import matplotlib.pyplot as plt\n",
        "import numpy as np\n",
        "\n",
        "# Define first Plot Degree\n",
        "def plot_degreei(G):\n",
        "  degree_sequence = sorted([d for n, d in G.degree()], reverse=True)\n",
        "  hist, bin_edges = np.histogram(degree_sequence, density=True)\n",
        "  plt.semilogy(bin_edges[:-1], hist, 'o', ms=15)\n",
        "  plt.xlabel(r\"$k$, degree \")\n",
        "  plt.ylabel(r\"PDF\")\n",
        "  plt.ylim(1e-3, 1)\n",
        "  plt.title(\"degree distribution\")\n",
        "\n",
        "def plot_degreeii(G):\n",
        "    degrees = [G.degree(n) for n in G.nodes()]\n",
        "    plt.hist(degrees, bins='auto')\n",
        "    plt.show()\n",
        "\n",
        "\n"
      ],
      "execution_count": null,
      "outputs": []
    },
    {
      "cell_type": "markdown",
      "metadata": {
        "id": "vu-eNUMy-6X8"
      },
      "source": [
        "Caltech Results"
      ]
    },
    {
      "cell_type": "code",
      "metadata": {
        "colab": {
          "base_uri": "https://localhost:8080/"
        },
        "id": "YBP6Jhmi-qOl",
        "outputId": "400345b2-8630-4126-8931-5ce542650b9a"
      },
      "source": [
        "plot_degreei(NCaltech)"
      ],
      "execution_count": null,
      "outputs": [
        {
          "output_type": "display_data",
          "data": {
            "image/png": "[encoded data removed]",
            "text/plain": [
              "<Figure size 432x288 with 1 Axes>"
            ]
          },
          "metadata": {
            "tags": [],
            "needs_background": "light"
          }
        }
      ]
    },
    {
      "cell_type": "code",
      "metadata": {
        "colab": {
          "base_uri": "https://localhost:8080/"
        },
        "id": "mudGUhSz_ft6",
        "outputId": "64ac62e7-7cb4-46b3-cc79-0786806e3f15"
      },
      "source": [
        "# Histogram\n",
        "plot_degreeii(NCaltech)"
      ],
      "execution_count": null,
      "outputs": [
        {
          "output_type": "display_data",
          "data": {
            "image/png": "[encoded data removed]",
            "text/plain": [
              "<Figure size 432x288 with 1 Axes>"
            ]
          },
          "metadata": {
            "tags": [],
            "needs_background": "light"
          }
        }
      ]
    },
    {
      "cell_type": "markdown",
      "metadata": {
        "id": "FnnxLRexA94m"
      },
      "source": [
        "MIT results"
      ]
    },
    {
      "cell_type": "code",
      "metadata": {
        "colab": {
          "base_uri": "https://localhost:8080/"
        },
        "id": "67IU2gTdBBLW",
        "outputId": "0e4147d7-2481-443f-a5e3-a8573779dbc6"
      },
      "source": [
        "# Plot\n",
        "plot_degreei(NMIT)"
      ],
      "execution_count": null,
      "outputs": [
        {
          "output_type": "display_data",
          "data": {
            "image/png": "[encoded data removed]",
            "text/plain": [
              "<Figure size 432x288 with 1 Axes>"
            ]
          },
          "metadata": {
            "tags": [],
            "needs_background": "light"
          }
        }
      ]
    },
    {
      "cell_type": "code",
      "metadata": {
        "colab": {
          "base_uri": "https://localhost:8080/"
        },
        "id": "pz3wnpt1BHOF",
        "outputId": "3f7d6f2b-cfa1-4ef6-c108-441339a888bb"
      },
      "source": [
        "# Histogram\n",
        "plot_degreeii(NMIT)"
      ],
      "execution_count": null,
      "outputs": [
        {
          "output_type": "display_data",
          "data": {
            "image/png": "[encoded data removed]",
            "text/plain": [
              "<Figure size 432x288 with 1 Axes>"
            ]
          },
          "metadata": {
            "tags": [],
            "needs_background": "light"
          }
        }
      ]
    },
    {
      "cell_type": "markdown",
      "metadata": {
        "id": "_-zyrFSgBMwb"
      },
      "source": [
        "Johns Hopkins results"
      ]
    },
    {
      "cell_type": "code",
      "metadata": {
        "colab": {
          "base_uri": "https://localhost:8080/"
        },
        "id": "q-dwrMmaBQxn",
        "outputId": "461da2b8-cc00-40e7-f844-c23b32d6327b"
      },
      "source": [
        "# Plot\n",
        "plot_degreei(NJH)"
      ],
      "execution_count": null,
      "outputs": [
        {
          "output_type": "display_data",
          "data": {
            "image/png": "[encoded data removed]",
            "text/plain": [
              "<Figure size 432x288 with 1 Axes>"
            ]
          },
          "metadata": {
            "tags": [],
            "needs_background": "light"
          }
        }
      ]
    },
    {
      "cell_type": "code",
      "metadata": {
        "colab": {
          "base_uri": "https://localhost:8080/"
        },
        "id": "vb7SHIShBUHJ",
        "outputId": "fe113d9d-7a7a-462c-e789-de1290ee1391"
      },
      "source": [
        "# Histogram\n",
        "plot_degreeii(NJH)"
      ],
      "execution_count": null,
      "outputs": [
        {
          "output_type": "display_data",
          "data": {
            "image/png": "[encoded data removed]",
            "text/plain": [
              "<Figure size 432x288 with 1 Axes>"
            ]
          },
          "metadata": {
            "tags": [],
            "needs_background": "light"
          }
        }
      ]
    },
    {
      "cell_type": "markdown",
      "metadata": {
        "id": "_BZq7SaNBekL"
      },
      "source": [
        "**What are you able to conclude from these degree distributions?**\n",
        "\n",
        "Answer:\n",
        "We can conclude that many people in the beginning were networked in their networks of each university only with people of the same degree, the same class, the same room having more clustering, and not with people from other faculties, even if they were in the same university or with a higher degree.\n"
      ]
    },
    {
      "cell_type": "markdown",
      "metadata": {
        "id": "BhUAqv1IBooa"
      },
      "source": [
        "**(b) Compute the global clustering coefficient and mean local clustering coefficient and edge density**"
      ]
    },
    {
      "cell_type": "code",
      "metadata": {
        "colab": {
          "base_uri": "https://localhost:8080/"
        },
        "id": "atubJMdZB_l1",
        "outputId": "5ae9f63c-dc63-4d27-8e3f-6dac95740dbd"
      },
      "source": [
        "# Global Clustering\n",
        "GCCaltech = nx.transitivity(NCaltech)\n",
        "print('Caltech - Global Clustering : ', GCCaltech)\n",
        "\n",
        "GCMIT = nx.transitivity(NMIT)\n",
        "print('MIT - Global Clustering : ', GCMIT)\n",
        "\n",
        "GCJH = nx.transitivity(NJH)\n",
        "print('Johns Hopkins - Global Clustering : ', GCJH)"
      ],
      "execution_count": null,
      "outputs": [
        {
          "output_type": "stream",
          "text": [
            "Caltech - Global Clustering :  0.2912826901150874\n",
            "MIT - Global Clustering :  0.18028845093502427\n",
            "Johns Hopkins - Global Clustering :  0.19316123901594015\n"
          ],
          "name": "stdout"
        }
      ]
    },
    {
      "cell_type": "code",
      "metadata": {
        "colab": {
          "base_uri": "https://localhost:8080/"
        },
        "id": "M5Uq2EfdC7KD",
        "outputId": "8df9aa77-6f5b-45b3-b811-fd46d42c3369"
      },
      "source": [
        "# Mean Local Clustering\n",
        "MCCaltech = nx.average_clustering(NCaltech)\n",
        "print('Caltech - Mean Local Clustering : ', MCCaltech)\n",
        "\n",
        "MCMIT = nx.average_clustering(NMIT)\n",
        "print('MIT - Mean Local Clustering : ', MCMIT)\n",
        "\n",
        "MCJH = nx.average_clustering(NJH)\n",
        "print('Johns Hopkins - Mean Local Clustering : ', MCJH)\n"
      ],
      "execution_count": null,
      "outputs": [
        {
          "output_type": "stream",
          "text": [
            "Caltech - Mean Local Clustering :  0.40929439048517247\n",
            "MIT - Mean Local Clustering :  0.2712187419501315\n",
            "Johns Hopkins - Mean Local Clustering :  0.26839307371293525\n"
          ],
          "name": "stdout"
        }
      ]
    },
    {
      "cell_type": "code",
      "metadata": {
        "colab": {
          "base_uri": "https://localhost:8080/"
        },
        "id": "uuKJMRrHDoau",
        "outputId": "07192b88-03ca-4ecb-843a-9a51559fb1f5"
      },
      "source": [
        "# Edge Density\n",
        "EDCaltech = nx.density(NCaltech)\n",
        "print('Caltech - Edge Density : ', EDCaltech)\n",
        "\n",
        "EDMIT = nx.density(NMIT)\n",
        "print('MIT - Edge Density : ', EDMIT)\n",
        "\n",
        "EDJH = nx.density(NJH)\n",
        "print('Johns Hopkins - Edge Density : ', EDJH)"
      ],
      "execution_count": null,
      "outputs": [
        {
          "output_type": "stream",
          "text": [
            "Caltech - Edge Density :  0.05640442132639792\n",
            "MIT - Edge Density :  0.012118119495041378\n",
            "Johns Hopkins - Edge Density :  0.013910200162372396\n"
          ],
          "name": "stdout"
        }
      ]
    },
    {
      "cell_type": "markdown",
      "metadata": {
        "id": "1clnulosFlRF"
      },
      "source": [
        "**Should either of these networks be construed as sparse?**\n",
        "\n",
        "Answer:\n",
        "I would answer that networks sparse, because even if we have a cluster of friends, that does not mean that my friends' friends know each other. Which is quite logical if we apply it to the situation at university, where you cannot even know all the people in your own faculty. Therefore, the 3 networks can be considered as sparse."
      ]
    },
    {
      "cell_type": "markdown",
      "metadata": {
        "id": "EXcc9H0pFb5I"
      },
      "source": [
        "**(c) Draw a scatter plot of the degree versus local clustering coefficient**"
      ]
    },
    {
      "cell_type": "code",
      "metadata": {
        "id": "SVQKydhpFqDO",
        "colab": {
          "base_uri": "https://localhost:8080/"
        },
        "outputId": "74b39759-01f3-460a-9295-d446aa391b71"
      },
      "source": [
        "# Get Deg\n",
        "def deg(list):\n",
        "  d = 0\n",
        "  for i in list:\n",
        "    if i[1] > d:\n",
        "      d = i[1]\n",
        "  return d\n",
        "\n",
        "# X Axis\n",
        "x = [deg(NCaltech.degree), deg(NMIT.degree), deg(NJH.degree)]\n",
        "# Y Axis\n",
        "y = [MCCaltech, MCMIT, MCJH]\n",
        "\n",
        "\n",
        "degree_NCaltech = [val for (node, val) in NCaltech.degree]\n",
        "degree_NMIT = [val for (node, val) in NMIT.degree]\n",
        "degree_NJH = [val for (node, val) in NJH.degree]\n",
        "CNCaltech = nx.clustering(NCaltech)\n",
        "CNMIT = nx.clustering(NMIT)\n",
        "CNJH = nx.clustering(NJH)\n",
        "\n",
        "\n",
        "\n",
        "# Caltech\n",
        "plt.xlabel(r\"Degree\")\n",
        "plt.ylabel(r\"Local clustering\")\n",
        "\n",
        "plt.plot(degree_NCaltech, list(CNCaltech.values()),'+', color='blue');"
      ],
      "execution_count": null,
      "outputs": [
        {
          "output_type": "display_data",
          "data": {
            "image/png": "[encoded data removed]",
            "text/plain": [
              "<Figure size 432x288 with 1 Axes>"
            ]
          },
          "metadata": {
            "tags": [],
            "needs_background": "light"
          }
        }
      ]
    },
    {
      "cell_type": "code",
      "metadata": {
        "colab": {
          "base_uri": "https://localhost:8080/"
        },
        "id": "UzPgTbr4pD-_",
        "outputId": "6e31f7db-70c5-4340-9ef0-8d080fb10161"
      },
      "source": [
        "# MIT\n",
        "plt.xlabel(r\"Degree\")\n",
        "plt.ylabel(r\"Local clustering\")\n",
        "\n",
        "plt.plot(degree_NMIT, list(CNMIT.values()),'+', color='blue');"
      ],
      "execution_count": null,
      "outputs": [
        {
          "output_type": "display_data",
          "data": {
            "image/png": "[encoded data removed]",
            "text/plain": [
              "<Figure size 432x288 with 1 Axes>"
            ]
          },
          "metadata": {
            "tags": [],
            "needs_background": "light"
          }
        }
      ]
    },
    {
      "cell_type": "code",
      "metadata": {
        "colab": {
          "base_uri": "https://localhost:8080/"
        },
        "id": "eFJW0w7epLvo",
        "outputId": "832dbf81-f885-49a4-f61f-60b725861502"
      },
      "source": [
        "# Johns Hopkins\n",
        "plt.xlabel(r\"Degree\")\n",
        "plt.ylabel(r\"Local clustering\")\n",
        "\n",
        "plt.plot(degree_NJH, list(CNJH.values()),'+', color='blue');"
      ],
      "execution_count": null,
      "outputs": [
        {
          "output_type": "display_data",
          "data": {
            "image/png": "[encoded data removed]",
            "text/plain": [
              "<Figure size 432x288 with 1 Axes>"
            ]
          },
          "metadata": {
            "tags": [],
            "needs_background": "light"
          }
        }
      ]
    },
    {
      "cell_type": "markdown",
      "metadata": {
        "id": "EtQ9U6iQpcq0"
      },
      "source": [
        "**Are you able to draw any conclusions about any similarities or differences between the tree networks? What other observations can you make?**\n",
        "\n",
        "Answer:\n",
        "\n",
        "*  It is interesting to note the similarities between Jhons Kopkins and MIT, which show exponential behavior. We can see that most clusters are formed in the lower degrees. Here one can have more friends than, for example, in high degrees where there are not so many clusters of friends.\n",
        "*  Caltech has similar behavior but is not as similar to the other two.\n",
        "\n"
      ]
    },
    {
      "cell_type": "markdown",
      "metadata": {
        "id": "otycIJnSpkca"
      },
      "source": [
        "##Question 3: Social Network Analysis with the Facebook100 Dataset\n",
        "\n",
        "Using the FB100 networks, investigate the assortativity patterns for three vertex attributes: (i) student/faculty status, (ii) major, (iii) vertex degree, and (iiii) dorm. Treat these networks as simple graphs in your analysis."
      ]
    },
    {
      "cell_type": "code",
      "metadata": {
        "id": "CEhxe_IhJ2t0"
      },
      "source": [
        "# Importing Networks\n",
        "\n",
        "N1 = nx.read_graphml(\"/content/drive/My Drive/Colab Notebooks/NA/Homework/data/Bingham82.graphml\")\n",
        "N2 = nx.read_graphml(\"/content/drive/My Drive/Colab Notebooks/NA/Homework/data/Brandeis99.graphml\")\n",
        "N3 = nx.read_graphml(\"/content/drive/My Drive/Colab Notebooks/NA/Homework/data/Brown11.graphml\")\n",
        "N4 = nx.read_graphml(\"/content/drive/My Drive/Colab Notebooks/NA/Homework/data/Colgate88.graphml\")\n",
        "N5 = nx.read_graphml(\"/content/drive/My Drive/Colab Notebooks/NA/Homework/data/Harvard1.graphml\")\n",
        "N6 = nx.read_graphml(\"/content/drive/My Drive/Colab Notebooks/NA/Homework/data/Lehigh96.graphml\")\n",
        "N7 = nx.read_graphml(\"/content/drive/My Drive/Colab Notebooks/NA/Homework/data/Maryland58.graphml\")\n",
        "N8 = nx.read_graphml(\"/content/drive/My Drive/Colab Notebooks/NA/Homework/data/MIT8.graphml\")\n",
        "N9 = nx.read_graphml(\"/content/drive/My Drive/Colab Notebooks/NA/Homework/data/Northeastern19.graphml\")\n",
        "N10 = nx.read_graphml(\"/content/drive/My Drive/Colab Notebooks/NA/Homework/data/Oberlin44.graphml\")"
      ],
      "execution_count": null,
      "outputs": []
    },
    {
      "cell_type": "markdown",
      "metadata": {
        "id": "y0wj5y-qQUtK"
      },
      "source": [
        "Network 1 -> Bingham82"
      ]
    },
    {
      "cell_type": "code",
      "metadata": {
        "colab": {
          "base_uri": "https://localhost:8080/"
        },
        "id": "eHAjL0OAOFw4",
        "outputId": "0fe116f6-b1c1-4143-b496-5197f1bed175"
      },
      "source": [
        "# Network 1\n",
        "print(\"Student faculty: \", nx.attribute_assortativity_coefficient(N1, \"student_fac\"))\n",
        "print(\"Major: \", nx.attribute_assortativity_coefficient(N1, \"major_index\"))\n",
        "print(\"Degree: \", nx.degree_assortativity_coefficient(N1))\n",
        "print(\"Dorm: \", nx.attribute_assortativity_coefficient(N1, \"dorm\"))\n",
        "print(\"Size: \", N1.size())"
      ],
      "execution_count": null,
      "outputs": [
        {
          "output_type": "stream",
          "text": [
            "Student faculty:  0.28566560558585763\n",
            "Major:  0.04680298160715487\n",
            "Degree:  0.13736406472255802\n",
            "Dorm:  0.16444205050113206\n",
            "Size:  362894\n"
          ],
          "name": "stdout"
        }
      ]
    },
    {
      "cell_type": "markdown",
      "metadata": {
        "id": "V-kuwppgRGBD"
      },
      "source": [
        "Network 2 -> Brandeis99"
      ]
    },
    {
      "cell_type": "code",
      "metadata": {
        "colab": {
          "base_uri": "https://localhost:8080/"
        },
        "id": "EaiBzkHxRIS8",
        "outputId": "ff38f274-6911-4fbb-e792-2b815db3a697"
      },
      "source": [
        "# Network 2\n",
        "print(\"Student faculty: \", nx.attribute_assortativity_coefficient(N2, \"student_fac\"))\n",
        "print(\"Major: \", nx.attribute_assortativity_coefficient(N2, \"major_index\"))\n",
        "print(\"Degree: \", nx.degree_assortativity_coefficient(N2))\n",
        "print(\"Dorm: \", nx.attribute_assortativity_coefficient(N2, \"dorm\"))\n",
        "print(\"Size: \", N2.size())"
      ],
      "execution_count": null,
      "outputs": [
        {
          "output_type": "stream",
          "text": [
            "Student faculty:  0.3739665668785806\n",
            "Major:  0.03997525544631663\n",
            "Degree:  -0.025515330213873477\n",
            "Dorm:  0.17899209844438788\n",
            "Size:  137567\n"
          ],
          "name": "stdout"
        }
      ]
    },
    {
      "cell_type": "markdown",
      "metadata": {
        "id": "FuQjOyiuRPau"
      },
      "source": [
        "Network 3 -> Brown11"
      ]
    },
    {
      "cell_type": "code",
      "metadata": {
        "colab": {
          "base_uri": "https://localhost:8080/"
        },
        "id": "X2awaSxQRSH0",
        "outputId": "c9410b71-b423-4828-a37f-8e47a755d9c1"
      },
      "source": [
        "# Network 3\n",
        "print(\"Student faculty: \", nx.attribute_assortativity_coefficient(N3, \"student_fac\"))\n",
        "print(\"Major: \", nx.attribute_assortativity_coefficient(N3, \"major_index\"))\n",
        "print(\"Degree: \", nx.degree_assortativity_coefficient(N3))\n",
        "print(\"Dorm: \", nx.attribute_assortativity_coefficient(N3, \"dorm\"))\n",
        "print(\"Size: \", N3.size())"
      ],
      "execution_count": null,
      "outputs": [
        {
          "output_type": "stream",
          "text": [
            "Student faculty:  0.42455744202161066\n",
            "Major:  0.03912469612684111\n",
            "Degree:  0.06938877121976816\n",
            "Dorm:  0.10272238407816026\n",
            "Size:  384526\n"
          ],
          "name": "stdout"
        }
      ]
    },
    {
      "cell_type": "markdown",
      "metadata": {
        "id": "_0Mo4gmKRWXn"
      },
      "source": [
        "Network 4 -> Colgate88"
      ]
    },
    {
      "cell_type": "code",
      "metadata": {
        "colab": {
          "base_uri": "https://localhost:8080/"
        },
        "id": "NEAe2ZciRaXM",
        "outputId": "33763638-2977-4d09-b481-0d7dbb2a1538"
      },
      "source": [
        "# Network 4\n",
        "print(\"Student faculty: \", nx.attribute_assortativity_coefficient(N4, \"student_fac\"))\n",
        "print(\"Major: \", nx.attribute_assortativity_coefficient(N4, \"major_index\"))\n",
        "print(\"Degree: \", nx.degree_assortativity_coefficient(N4))\n",
        "print(\"Dorm: \", nx.attribute_assortativity_coefficient(N4, \"dorm\"))\n",
        "print(\"Size: \", N4.size())"
      ],
      "execution_count": null,
      "outputs": [
        {
          "output_type": "stream",
          "text": [
            "Student faculty:  0.4409103362420721\n",
            "Major:  0.05220371082480271\n",
            "Degree:  0.0670008825165129\n",
            "Dorm:  0.15031593379176325\n",
            "Size:  155043\n"
          ],
          "name": "stdout"
        }
      ]
    },
    {
      "cell_type": "markdown",
      "metadata": {
        "id": "7u7YEy5yRhgv"
      },
      "source": [
        "Network 5 -> Harvard1"
      ]
    },
    {
      "cell_type": "code",
      "metadata": {
        "colab": {
          "base_uri": "https://localhost:8080/"
        },
        "id": "nClOCAnIRlER",
        "outputId": "037c7a80-27c9-4b12-b884-5c8c3cf4b951"
      },
      "source": [
        "# Network 5\n",
        "print(\"Student faculty: \", nx.attribute_assortativity_coefficient(N5, \"student_fac\"))\n",
        "print(\"Major: \", nx.attribute_assortativity_coefficient(N5, \"major_index\"))\n",
        "print(\"Degree: \", nx.degree_assortativity_coefficient(N5))\n",
        "print(\"Dorm: \", nx.attribute_assortativity_coefficient(N5, \"dorm\"))\n",
        "print(\"Size: \", N5.size())"
      ],
      "execution_count": null,
      "outputs": [
        {
          "output_type": "stream",
          "text": [
            "Student faculty:  0.5426250622894172\n",
            "Major:  0.04967692832862898\n",
            "Degree:  0.14505488767109062\n",
            "Dorm:  0.12567663504955817\n",
            "Size:  824617\n"
          ],
          "name": "stdout"
        }
      ]
    },
    {
      "cell_type": "markdown",
      "metadata": {
        "id": "yKvn5tstSDHd"
      },
      "source": [
        "Network 6 -> Lehigh96"
      ]
    },
    {
      "cell_type": "code",
      "metadata": {
        "colab": {
          "base_uri": "https://localhost:8080/"
        },
        "id": "MuJDRJ3HSIqC",
        "outputId": "2ffe931e-78e6-4764-d039-4b763033ffcb"
      },
      "source": [
        "# Network 6\n",
        "print(\"Student faculty: \", nx.attribute_assortativity_coefficient(N6, \"student_fac\"))\n",
        "print(\"Major: \", nx.attribute_assortativity_coefficient(N6, \"major_index\"))\n",
        "print(\"Degree: \", nx.degree_assortativity_coefficient(N6))\n",
        "print(\"Dorm: \", nx.attribute_assortativity_coefficient(N6, \"dorm\"))\n",
        "print(\"Size: \", N6.size())"
      ],
      "execution_count": null,
      "outputs": [
        {
          "output_type": "stream",
          "text": [
            "Student faculty:  0.3067075189254781\n",
            "Major:  0.04255744757751177\n",
            "Degree:  0.03514352338363369\n",
            "Dorm:  0.23144081638138456\n",
            "Size:  198347\n"
          ],
          "name": "stdout"
        }
      ]
    },
    {
      "cell_type": "markdown",
      "metadata": {
        "id": "MY0QDNlJSMFl"
      },
      "source": [
        "Network 7 -> Maryland58"
      ]
    },
    {
      "cell_type": "code",
      "metadata": {
        "colab": {
          "base_uri": "https://localhost:8080/"
        },
        "id": "t2RSRsFISPsV",
        "outputId": "ad18b9b5-72b6-4204-f00c-cd5799fa5856"
      },
      "source": [
        "# Network 7\n",
        "print(\"Student faculty: \", nx.attribute_assortativity_coefficient(N7, \"student_fac\"))\n",
        "print(\"Major: \", nx.attribute_assortativity_coefficient(N7, \"major_index\"))\n",
        "print(\"Degree: \", nx.degree_assortativity_coefficient(N7))\n",
        "print(\"Dorm: \", nx.attribute_assortativity_coefficient(N7, \"dorm\"))\n",
        "print(\"Size: \", N7.size())"
      ],
      "execution_count": null,
      "outputs": [
        {
          "output_type": "stream",
          "text": [
            "Student faculty:  0.27331771145095285\n",
            "Major:  0.05139728013103488\n",
            "Degree:  0.0014223562911621689\n",
            "Dorm:  0.16127867734331042\n",
            "Size:  744862\n"
          ],
          "name": "stdout"
        }
      ]
    },
    {
      "cell_type": "markdown",
      "metadata": {
        "id": "jPUNLpoASUkR"
      },
      "source": [
        "Network 8 -> MIT8"
      ]
    },
    {
      "cell_type": "code",
      "metadata": {
        "colab": {
          "base_uri": "https://localhost:8080/"
        },
        "id": "YDghX49ISYMc",
        "outputId": "d3d3a398-692d-4aed-d650-849449a73c4c"
      },
      "source": [
        "# Network 8\n",
        "print(\"Student faculty: \", nx.attribute_assortativity_coefficient(N8, \"student_fac\"))\n",
        "print(\"Major: \", nx.attribute_assortativity_coefficient(N8, \"major_index\"))\n",
        "print(\"Degree: \", nx.degree_assortativity_coefficient(N8))\n",
        "print(\"Dorm: \", nx.attribute_assortativity_coefficient(N8, \"dorm\"))\n",
        "print(\"Size: \", N8.size())"
      ],
      "execution_count": null,
      "outputs": [
        {
          "output_type": "stream",
          "text": [
            "Student faculty:  0.315240859602468\n",
            "Major:  0.058067301827022307\n",
            "Degree:  0.12005101145668985\n",
            "Dorm:  0.17879641483565542\n",
            "Size:  251252\n"
          ],
          "name": "stdout"
        }
      ]
    },
    {
      "cell_type": "markdown",
      "metadata": {
        "id": "4UslWJbpScgk"
      },
      "source": [
        "Network 9 -> Notheastern19"
      ]
    },
    {
      "cell_type": "code",
      "metadata": {
        "colab": {
          "base_uri": "https://localhost:8080/"
        },
        "id": "9_5CxvRSSi1K",
        "outputId": "1480788f-70ab-456f-ee44-05be51c5132d"
      },
      "source": [
        "# Network 9\n",
        "print(\"Student faculty: \", nx.attribute_assortativity_coefficient(N9, \"student_fac\"))\n",
        "print(\"Major: \", nx.attribute_assortativity_coefficient(N9, \"major_index\"))\n",
        "print(\"Degree: \", nx.degree_assortativity_coefficient(N9))\n",
        "print(\"Dorm: \", nx.attribute_assortativity_coefficient(N9, \"dorm\"))\n",
        "print(\"Size: \", N9.size())"
      ],
      "execution_count": null,
      "outputs": [
        {
          "output_type": "stream",
          "text": [
            "Student faculty:  0.27357727603212667\n",
            "Major:  0.09708983846144985\n",
            "Degree:  0.06817059301790454\n",
            "Dorm:  0.15133747674027956\n",
            "Size:  381934\n"
          ],
          "name": "stdout"
        }
      ]
    },
    {
      "cell_type": "markdown",
      "metadata": {
        "id": "HcOr8EF9SstI"
      },
      "source": [
        "Network 10 -> Oberlin44"
      ]
    },
    {
      "cell_type": "code",
      "metadata": {
        "colab": {
          "base_uri": "https://localhost:8080/"
        },
        "id": "bPplK6zSSwAn",
        "outputId": "9c0bcbf4-51c3-4f3a-a0d8-6098d4e10b6d"
      },
      "source": [
        "# Network 10\n",
        "print(\"Student faculty: \", nx.attribute_assortativity_coefficient(N10, \"student_fac\"))\n",
        "print(\"Major: \", nx.attribute_assortativity_coefficient(N10, \"major_index\"))\n",
        "print(\"Degree: \", nx.degree_assortativity_coefficient(N10))\n",
        "print(\"Dorm: \", nx.attribute_assortativity_coefficient(N10, \"dorm\"))\n",
        "print(\"Size: \", N10.size())"
      ],
      "execution_count": null,
      "outputs": [
        {
          "output_type": "stream",
          "text": [
            "Student faculty:  0.23011231473520424\n",
            "Major:  0.09350709613377944\n",
            "Degree:  0.05008017692087402\n",
            "Dorm:  0.14980232456217782\n",
            "Size:  89912\n"
          ],
          "name": "stdout"
        }
      ]
    },
    {
      "cell_type": "markdown",
      "metadata": {
        "id": "2lzP7eArRAMh"
      },
      "source": [
        "### Student Faculty"
      ]
    },
    {
      "cell_type": "code",
      "metadata": {
        "colab": {
          "base_uri": "https://localhost:8080/"
        },
        "id": "lsPGynPoQnFe",
        "outputId": "68369e78-ff4e-4eea-f0ac-1b64ef8a08ab"
      },
      "source": [
        "# Scatter plot Assortativity vrs Network Size\n",
        "\n",
        "# Networks\n",
        "Networks = [N1, N2, N3, N4, N5, N6, N7, N8, N9, N10]\n",
        "# Store assortative faculty and network size\n",
        "all_facult = []\n",
        "all_Nsize = []\n",
        "\n",
        "for i in range(0,10):\n",
        "  all_Nsize.append(Networks[i].size())\n",
        "  all_facult.append(nx.attribute_assortativity_coefficient(Networks[i], \"student_fac\"))\n",
        "\n",
        "print(all_facult)\n",
        "print(all_Nsize)\n",
        "\n",
        "# plot\n",
        "plt.xlabel(r\"Network Size\")\n",
        "plt.ylabel(r\"Student Faculty Assortativity\")\n",
        "plt.xscale('log')\n",
        "plt.axhline(linewidth=1, color='b', linestyle='--')\n",
        "plt.plot(all_Nsize, all_facult, '+', color='blue');\n"
      ],
      "execution_count": null,
      "outputs": [
        {
          "output_type": "stream",
          "text": [
            "[0.28566560558585763, 0.3739665668785806, 0.42455744202161066, 0.4409103362420721, 0.5426250622894172, 0.3067075189254781, 0.27331771145095285, 0.315240859602468, 0.27357727603212667, 0.23011231473520424]\n",
            "[362894, 137567, 384526, 155043, 824617, 198347, 744862, 251252, 381934, 89912]\n"
          ],
          "name": "stdout"
        },
        {
          "output_type": "display_data",
          "data": {
            "image/png": "[encoded data removed]",
            "text/plain": [
              "<Figure size 432x288 with 1 Axes>"
            ]
          },
          "metadata": {
            "tags": [],
            "needs_background": "light"
          }
        }
      ]
    },
    {
      "cell_type": "markdown",
      "metadata": {
        "id": "k_smVCyBV5WA"
      },
      "source": [
        "Histogram assortative Faculty\n"
      ]
    },
    {
      "cell_type": "code",
      "metadata": {
        "colab": {
          "base_uri": "https://localhost:8080/"
        },
        "id": "rYIsmIQzV2Yi",
        "outputId": "9e872a99-b526-49b3-c692-952897209d58"
      },
      "source": [
        "# Histogram\n",
        "plt.hist(all_facult, bins='auto', alpha=0.7, rwidth=0.4)\n",
        "plt.xlim(left=-0.01)\n",
        "plt.axvline(linewidth=1, color='b', linestyle='--')\n",
        "plt.xlabel(r\"Sutent Faculty Assortativity\")\n",
        "plt.show()\n"
      ],
      "execution_count": null,
      "outputs": [
        {
          "output_type": "display_data",
          "data": {
            "image/png": "[encoded data removed]",
            "text/plain": [
              "<Figure size 432x288 with 1 Axes>"
            ]
          },
          "metadata": {
            "tags": [],
            "needs_background": "light"
          }
        }
      ]
    },
    {
      "cell_type": "markdown",
      "metadata": {
        "id": "iycwghSHXPeH"
      },
      "source": [
        "### Major"
      ]
    },
    {
      "cell_type": "code",
      "metadata": {
        "colab": {
          "base_uri": "https://localhost:8080/"
        },
        "id": "ZFSevCY9XU4P",
        "outputId": "6794932e-bd2a-4fc1-f10f-c1cee9bd78d0"
      },
      "source": [
        "# Scatter plot Assortativity vrs Network Size\n",
        "\n",
        "# Store assortative faculty and network size\n",
        "all_major = []\n",
        "\n",
        "\n",
        "for i in range(0,10):\n",
        "  all_major.append(nx.attribute_assortativity_coefficient(Networks[i], \"major_index\"))\n",
        "\n",
        "print(all_major)\n",
        "print(all_Nsize)\n",
        "\n",
        "# plot\n",
        "plt.xlabel(r\"Network Size\")\n",
        "plt.ylabel(r\"Major Assortativity\")\n",
        "plt.xscale('log')\n",
        "# plt.ylim(-0.1, 0.60)\n",
        "plt.axhline(linewidth=1, color='b', linestyle='--')\n",
        "plt.plot(all_Nsize, all_major, '+', color='blue');\n"
      ],
      "execution_count": null,
      "outputs": [
        {
          "output_type": "stream",
          "text": [
            "[0.04680298160715487, 0.03997525544631663, 0.03912469612684111, 0.05220371082480271, 0.04967692832862898, 0.04255744757751177, 0.05139728013103488, 0.058067301827022307, 0.09708983846144985, 0.09350709613377944]\n",
            "[362894, 137567, 384526, 155043, 824617, 198347, 744862, 251252, 381934, 89912]\n"
          ],
          "name": "stdout"
        },
        {
          "output_type": "display_data",
          "data": {
            "image/png": "[encoded data removed]",
            "text/plain": [
              "<Figure size 432x288 with 1 Axes>"
            ]
          },
          "metadata": {
            "tags": [],
            "needs_background": "light"
          }
        }
      ]
    },
    {
      "cell_type": "code",
      "metadata": {
        "colab": {
          "base_uri": "https://localhost:8080/"
        },
        "id": "fg8ddXCJXt2b",
        "outputId": "caaa4b45-8c39-48f3-cbd0-f4f2808a484b"
      },
      "source": [
        "# Histogram\n",
        "plt.hist(all_major, bins='auto', alpha=0.7, rwidth=0.4)\n",
        "plt.xlim(left=-0.01)\n",
        "plt.axvline(linewidth=1, color='b', linestyle='--')\n",
        "plt.xlabel(r\"Major Assortativity\")\n",
        "plt.show()"
      ],
      "execution_count": null,
      "outputs": [
        {
          "output_type": "display_data",
          "data": {
            "image/png": "[encoded data removed]",
            "text/plain": [
              "<Figure size 432x288 with 1 Axes>"
            ]
          },
          "metadata": {
            "tags": [],
            "needs_background": "light"
          }
        }
      ]
    },
    {
      "cell_type": "markdown",
      "metadata": {
        "id": "SinZmuwCX8HK"
      },
      "source": [
        "### Degree"
      ]
    },
    {
      "cell_type": "code",
      "metadata": {
        "colab": {
          "base_uri": "https://localhost:8080/"
        },
        "id": "hojA9g7eX9oK",
        "outputId": "0f61cf49-bc72-4f6e-bc94-0ba0dfa73fcb"
      },
      "source": [
        "# Scatter plot Assortativity vrs Network Size\n",
        "\n",
        "# Store assortative faculty and network size\n",
        "all_degree = []\n",
        "\n",
        "\n",
        "for i in range(0,10):\n",
        "  all_degree.append(nx.degree_assortativity_coefficient(Networks[i]))\n",
        "\n",
        "print(all_degree)\n",
        "print(all_Nsize)\n",
        "\n",
        "# plot\n",
        "plt.xlabel(r\"Network Size\")\n",
        "plt.ylabel(r\"Degree\")\n",
        "plt.xscale('log')\n",
        "# plt.ylim(-0.1, 0.60)\n",
        "plt.axhline(linewidth=1, color='b', linestyle='--')\n",
        "plt.plot(all_Nsize, all_major, '+', color='blue');"
      ],
      "execution_count": null,
      "outputs": [
        {
          "output_type": "stream",
          "text": [
            "[0.13736406472255802, -0.025515330213873477, 0.06938877121976816, 0.0670008825165129, 0.14505488767109062, 0.03514352338363369, 0.0014223562911621689, 0.12005101145668985, 0.06817059301790454, 0.05008017692087402]\n",
            "[362894, 137567, 384526, 155043, 824617, 198347, 744862, 251252, 381934, 89912]\n"
          ],
          "name": "stdout"
        },
        {
          "output_type": "display_data",
          "data": {
            "image/png": "[encoded data removed]",
            "text/plain": [
              "<Figure size 432x288 with 1 Axes>"
            ]
          },
          "metadata": {
            "tags": [],
            "needs_background": "light"
          }
        }
      ]
    },
    {
      "cell_type": "code",
      "metadata": {
        "colab": {
          "base_uri": "https://localhost:8080/"
        },
        "id": "eM0hPW-NYSCu",
        "outputId": "d8b46bcb-0127-455f-8669-e2bb3f9cb8a4"
      },
      "source": [
        "# Histogram\n",
        "plt.hist(all_degree, bins='auto', alpha=0.7, rwidth=0.4)\n",
        "plt.xlim(left=-0.02)\n",
        "plt.axvline(linewidth=1, color='b', linestyle='--')\n",
        "plt.xlabel(r\"Degree\")\n",
        "plt.show()"
      ],
      "execution_count": null,
      "outputs": [
        {
          "output_type": "display_data",
          "data": {
            "image/png": "[encoded data removed]",
            "text/plain": [
              "<Figure size 432x288 with 1 Axes>"
            ]
          },
          "metadata": {
            "tags": [],
            "needs_background": "light"
          }
        }
      ]
    },
    {
      "cell_type": "markdown",
      "metadata": {
        "id": "1C2_-VQQY4ht"
      },
      "source": [
        "### Dorm"
      ]
    },
    {
      "cell_type": "code",
      "metadata": {
        "colab": {
          "base_uri": "https://localhost:8080/"
        },
        "id": "BP9tgNzNY-ZZ",
        "outputId": "e0169c5a-a5a6-4546-c2a2-779f600d4ccd"
      },
      "source": [
        "# Scatter plot Assortativity vrs Network Size\n",
        "\n",
        "# Store assortative faculty and network size\n",
        "all_dorm = []\n",
        "\n",
        "\n",
        "for i in range(0,10):\n",
        "  all_dorm.append(nx.attribute_assortativity_coefficient(Networks[i], \"dorm\"))\n",
        "\n",
        "print(all_dorm)\n",
        "print(all_Nsize)\n",
        "\n",
        "# plot\n",
        "plt.xlabel(r\"Network Size\")\n",
        "plt.ylabel(r\"Dorm Assortativity\")\n",
        "plt.xscale('log')\n",
        "# plt.ylim(-0.1, 0.60)\n",
        "plt.axhline(linewidth=1, color='b', linestyle='--')\n",
        "plt.plot(all_Nsize, all_major, '+', color='blue');"
      ],
      "execution_count": null,
      "outputs": [
        {
          "output_type": "stream",
          "text": [
            "[0.16444205050113206, 0.17899209844438788, 0.10272238407816026, 0.15031593379176325, 0.12567663504955817, 0.23144081638138456, 0.16127867734331042, 0.17879641483565542, 0.15133747674027956, 0.14980232456217782]\n",
            "[362894, 137567, 384526, 155043, 824617, 198347, 744862, 251252, 381934, 89912]\n"
          ],
          "name": "stdout"
        },
        {
          "output_type": "display_data",
          "data": {
            "image/png": "[encoded data removed]",
            "text/plain": [
              "<Figure size 432x288 with 1 Axes>"
            ]
          },
          "metadata": {
            "tags": [],
            "needs_background": "light"
          }
        }
      ]
    },
    {
      "cell_type": "code",
      "metadata": {
        "colab": {
          "base_uri": "https://localhost:8080/"
        },
        "id": "ARsVt_J_ZMxV",
        "outputId": "c4e4c2ff-bb9f-4c3b-8f3b-60a57aec06d5"
      },
      "source": [
        "# Histogram\n",
        "plt.hist(all_dorm, bins='auto', alpha=0.7, rwidth=0.4)\n",
        "plt.xlim(left=-0.01)\n",
        "plt.axvline(linewidth=1, color='b', linestyle='--')\n",
        "plt.xlabel(r\"Dorm Assortativity\")\n",
        "plt.show()"
      ],
      "execution_count": null,
      "outputs": [
        {
          "output_type": "display_data",
          "data": {
            "image/png": "[encoded data removed]",
            "text/plain": [
              "<Figure size 432x288 with 1 Axes>"
            ]
          },
          "metadata": {
            "tags": [],
            "needs_background": "light"
          }
        }
      ]
    },
    {
      "cell_type": "markdown",
      "metadata": {
        "id": "8YCz7dfVZwCi"
      },
      "source": [
        "### **Discuss**\n",
        "\n",
        "Briefly discuss the degree to which vertices do or do not exhibit assortative mixing on each attribute, and speculate about what kind of processes or tendencies in the formation of Facebook friendships might produce this kind of pattern.\n",
        "\n",
        "\n",
        "Answer:\n",
        "\n",
        "\n",
        "\n",
        "*   Student Faculty: People who study in the same faculty or are in the same courses can be said to be friends in the network and therefore we can see the behavior of having a high assortativity.\n",
        "*   Dorms: I can conclude that dorms have high assortativity, it makes sense because more people living in dorms or college buildings have friends from the same dorms.\n",
        "*   Major : Looking at the Major results we can conclude that they are not related to making friends, that is why they have a low level of assortitivity.\n",
        "\n",
        "In conclusion, when looking at the results of these attributes we can observe interesting behaviors which make sense. When wanting to create a friendship network, people will logically start making friends in closer nodes, for example with people who live in the same place, people who are in the same classes at the university, people who are in the same faculty.\n",
        "\n",
        "\n",
        "\n",
        "\n",
        "\n",
        "\n",
        "\n",
        "\n",
        "\n",
        "Degree negative\n",
        "\n"
      ]
    },
    {
      "cell_type": "markdown",
      "metadata": {
        "id": "fLWkxBDwaCN6"
      },
      "source": [
        "##Question 4: Find missing labels with the label propagation algorithms"
      ]
    },
    {
      "cell_type": "markdown",
      "metadata": {
        "id": "fprEcFQYaPz1"
      },
      "source": [
        "### A\n",
        "**(a) Read the following document**\n",
        "\n",
        "[link text](https://drive.google.com/file/d/1BggnKj43pRkbwXkUTz1rwo971HBF33CO/view?usp=sharing)"
      ]
    },
    {
      "cell_type": "markdown",
      "metadata": {
        "id": "G64A5FHL9Q9n"
      },
      "source": [
        "### B\n",
        "**(b) Implement in python the label propagation algorithm [4], please consider pytorch1 and networkx2 for the development of your algorithm.**"
      ]
    },
    {
      "cell_type": "code",
      "metadata": {
        "id": "atFvyTBKDwyM"
      },
      "source": [
        "# Definitions of functions\n",
        "\n",
        "# Function to Normalize\n",
        "\n",
        "def normalize_function(N):\n",
        "    arrayNetwork = nx.to_numpy_array(N)\n",
        "    sumNetwork = np.sum(arrayNetwork, axis=1)\n",
        "    diagNetwork = np.diag(1./sumNetwork)\n",
        "    return diagNetwork @ arrayNetwork"
      ],
      "execution_count": 8,
      "outputs": []
    },
    {
      "cell_type": "code",
      "metadata": {
        "colab": {
          "base_uri": "https://localhost:8080/"
        },
        "id": "ucOLTX2nOPb9",
        "outputId": "bb7eb48c-0738-4a7a-a088-6d82b5af55b3"
      },
      "source": [
        "# Testing\n",
        "Gn = nx.Graph()\n",
        "Gn.add_edge(1, 2)\n",
        "Gn.add_edge(1, 3)\n",
        "Gn.add_edge(1, 4)\n",
        "Gn.add_edge(2, 3)\n",
        "Gn.add_edge(3, 4)\n",
        "Gn.add_edge(4 ,5)\n",
        "Gn.add_edge(4 ,6)\n",
        "Gn.add_edge(5, 6)\n",
        "Gn.add_edge(5, 7)\n",
        "Gn.add_edge(5, 8)\n",
        "# get Label Y\n",
        "lenG = len(Gn)\n",
        "label_y = np.zeros((lenG, 2))\n",
        "label_y[5,1] = 1\n",
        "label_y[6,1] = 1\n",
        "label_y[0,0] = 1\n",
        "label_y[1,0] = 1\n",
        "\n",
        "labels_id = np.array([(5,1), (6,1), (0,0), (1,0)])\n",
        "\n",
        "print(\"LABEL Y : \", label_y)\n",
        "print(\"LABELS IDs  : \", labels_id)"
      ],
      "execution_count": 9,
      "outputs": [
        {
          "output_type": "stream",
          "text": [
            "LABEL Y :  [[1. 0.]\n",
            " [1. 0.]\n",
            " [0. 0.]\n",
            " [0. 0.]\n",
            " [0. 0.]\n",
            " [0. 1.]\n",
            " [0. 1.]\n",
            " [0. 0.]]\n",
            "LABELS IDs  :  [[5 1]\n",
            " [6 1]\n",
            " [0 0]\n",
            " [1 0]]\n"
          ],
          "name": "stdout"
        }
      ]
    },
    {
      "cell_type": "code",
      "metadata": {
        "id": "1XT14Zi8PMvo"
      },
      "source": [
        "# Function to Label Propagation to get Label y\n",
        "def label_propagation(N, label_y, labels_id, tol=1e-3, max_iter=1000):\n",
        "    size_n = len(N)\n",
        "    norm = normalize_function(N)\n",
        "    copy_ylabel = label_y.copy()\n",
        "    previous = np.zeros(label_y.shape)\n",
        "\n",
        "    # iterations to 1000\n",
        "    for _ in range(max_iter):\n",
        "        var = np.abs(np.sum(previous - label_y))\n",
        "        \n",
        "        # if gets var lower than tol -> stop.\n",
        "        if var < tol:\n",
        "            break\n",
        "        previous = label_y.copy()\n",
        "        label_y = np.dot(norm, previous)\n",
        "        label_y[labels_id] = copy_ylabel[labels_id]\n",
        "        \n",
        "    return label_y"
      ],
      "execution_count": 10,
      "outputs": []
    },
    {
      "cell_type": "code",
      "metadata": {
        "id": "UG80PjwEyoZ5"
      },
      "source": [
        "# Algorithm Label Propagation\n",
        "\n",
        "def complete_propagation(N, label, tol, percentage):\n",
        "  size_network = len(N)\n",
        "\n",
        "  # get node attributes\n",
        "  nodes_values = nx.get_node_attributes(N, label)\n",
        "  # print(node_values)\n",
        "\n",
        "  # find the unique \n",
        "  node_uniquev = set( valor for i in nodes_values for valor in nodes_values.values())\n",
        "\n",
        "  # convert list of the unique values\n",
        "  unique_list = list(node_uniquev)\n",
        "  size_unique = len(list(unique_list))\n",
        "  \n",
        "  # Percentage label and label copy\n",
        "  per = math.ceil(size_network*percentage)\n",
        "  label_y = np.zeros((size_network, size_unique))\n",
        "  labely_backup = np.zeros((size_network, size_unique))\n",
        "  # print(label_y)\n",
        "  # print(labely_backup)\n",
        "  \n",
        "  aprox_vals = []\n",
        "  index = per * math.floor(random() * 1/percentage)\n",
        "  totals = index + per\n",
        "  counter = 0\n",
        "\n",
        "  # save the original value\n",
        "  original_index = index\n",
        "\n",
        "  # CORE\n",
        "  for i in nodes_values:\n",
        "    for j in range(size_unique):\n",
        "      if nodes_values[i] == unique_list[j] and nodes_values[i] != 0 and index < totals and index <= counter:\n",
        "          label_y[int(i), j] = 0\n",
        "          labely_backup[int(i), j] = 1\n",
        "          aprox_vals.append(counter)\n",
        "          index = index + 1\n",
        "      elif nodes_values[i] == unique_list[j] and nodes_values[i] != 0:\n",
        "        label_y[int(i), j] = 1\n",
        "        labely_backup[int(i), j] = 1\n",
        "    counter = counter + 1\n",
        "\n",
        "  label_ids = (label_y.sum(axis=1) == 1)\n",
        "  labels_y = label_propagation(N, label_y, label_ids, tol)\n",
        "\n",
        "  return labels_y, labely_backup, original_index, per"
      ],
      "execution_count": 117,
      "outputs": []
    },
    {
      "cell_type": "markdown",
      "metadata": {
        "id": "jaKCpFRz_NdA"
      },
      "source": [
        "### C\n",
        "**(c) Choose a network from The Facebook100 dataset and randomly select 10%, 20% and 30% of of the node attributes of the network to be remove. Use the label propagation algorithm you implemented to recover the missing attributes. perform this operation for each of the following attributes : the ”dorm”, ”major”, ”gender”.**"
      ]
    },
    {
      "cell_type": "markdown",
      "metadata": {
        "id": "AfAl4eAv-UfZ"
      },
      "source": [
        "Network to use as example"
      ]
    },
    {
      "cell_type": "code",
      "metadata": {
        "id": "_HdnhFA4-YJr"
      },
      "source": [
        "N11 = nx.read_graphml(\"/content/drive/My Drive/Colab Notebooks/NA/Homework/data/Duke14.graphml\")"
      ],
      "execution_count": 12,
      "outputs": []
    },
    {
      "cell_type": "markdown",
      "metadata": {
        "id": "GXTeYVHd_ifh"
      },
      "source": [
        "#### 10% \n",
        "\n",
        "\n",
        "1.   Dorm\n",
        "2.   Major\n",
        "2.   Gender\n",
        "\n"
      ]
    },
    {
      "cell_type": "markdown",
      "metadata": {
        "id": "NmTvUJtl_vHR"
      },
      "source": [
        "Dorm"
      ]
    },
    {
      "cell_type": "code",
      "metadata": {
        "colab": {
          "base_uri": "https://localhost:8080/"
        },
        "id": "PmYY9ONj_vwd",
        "outputId": "0d3c54cf-47fd-48a5-bad7-10f6bf1bfc8c"
      },
      "source": [
        "dorm01_labelsy, dorm01_labelsy_backup, dorm01_index, dorm01_per = complete_propagation(N11, 'dorm', 1e-3, 0.1)\n",
        "print(\"Labels Y : \", dorm01_labelsy)\n",
        "print(\"Labels Y back : \", dorm01_labelsy_backup)\n",
        "print(\"Index : \", dorm01_index)\n",
        "print(\"Percentage : \", dorm01_per)"
      ],
      "execution_count": 118,
      "outputs": [
        {
          "output_type": "stream",
          "text": [
            "Labels Y :  [[0.         0.00096613 0.00375479 ... 0.00229907 0.0006241  0.0006031 ]\n",
            " [0.         0.0009906  0.00060922 ... 0.01038827 0.00075672 0.00055127]\n",
            " [0.         0.00206545 0.00638247 ... 0.00719142 0.01021469 0.00143532]\n",
            " ...\n",
            " [0.         0.00039359 0.00269563 ... 0.00099406 0.00078515 0.00030262]\n",
            " [0.         0.         0.         ... 0.         0.         0.        ]\n",
            " [0.         0.0019191  0.00204669 ... 0.00096429 0.01119826 0.00446077]]\n",
            "Labels Y back :  [[0. 0. 0. ... 0. 0. 0.]\n",
            " [0. 0. 0. ... 0. 0. 0.]\n",
            " [0. 0. 0. ... 0. 0. 0.]\n",
            " ...\n",
            " [0. 0. 0. ... 0. 0. 0.]\n",
            " [0. 0. 0. ... 0. 0. 0.]\n",
            " [0. 0. 0. ... 0. 0. 0.]]\n",
            "Index :  0\n",
            "Percentage :  990\n"
          ],
          "name": "stdout"
        }
      ]
    },
    {
      "cell_type": "markdown",
      "metadata": {
        "id": "XYGBSNYrCUL6"
      },
      "source": [
        "Major"
      ]
    },
    {
      "cell_type": "code",
      "metadata": {
        "colab": {
          "base_uri": "https://localhost:8080/"
        },
        "id": "6WSIE3CHCYMF",
        "outputId": "7cfd8a9a-3ee7-41cf-9599-d9f0cef3ae29"
      },
      "source": [
        "major01_labelsy, major01_labelsy_backup, major01_index, major01_per = complete_propagation(N11, 'major_index', 1e-3, 0.1)\n",
        "print(\"Labels Y : \", major01_labelsy)\n",
        "print(\"Labels Y back : \", major01_labelsy_backup)\n",
        "print(\"Index : \", major01_index)\n",
        "print(\"Percentage : \", major01_per)"
      ],
      "execution_count": 119,
      "outputs": [
        {
          "output_type": "stream",
          "text": [
            "Labels Y :  [[0.00000000e+00 4.75366962e-04 1.23613727e-04 ... 6.20140203e-04\n",
            "  7.63712593e-07 1.45768827e-05]\n",
            " [0.00000000e+00 0.00000000e+00 0.00000000e+00 ... 0.00000000e+00\n",
            "  0.00000000e+00 0.00000000e+00]\n",
            " [0.00000000e+00 0.00000000e+00 0.00000000e+00 ... 0.00000000e+00\n",
            "  0.00000000e+00 0.00000000e+00]\n",
            " ...\n",
            " [0.00000000e+00 7.77629614e-04 4.26888210e-02 ... 1.23141471e-03\n",
            "  6.54085315e-06 2.24519196e-05]\n",
            " [0.00000000e+00 0.00000000e+00 0.00000000e+00 ... 0.00000000e+00\n",
            "  0.00000000e+00 0.00000000e+00]\n",
            " [0.00000000e+00 0.00000000e+00 0.00000000e+00 ... 0.00000000e+00\n",
            "  0.00000000e+00 0.00000000e+00]]\n",
            "Labels Y back :  [[0. 0. 0. ... 0. 0. 0.]\n",
            " [0. 0. 0. ... 0. 0. 0.]\n",
            " [0. 0. 0. ... 0. 0. 0.]\n",
            " ...\n",
            " [0. 0. 0. ... 0. 0. 0.]\n",
            " [0. 0. 0. ... 0. 0. 0.]\n",
            " [0. 0. 0. ... 0. 0. 0.]]\n",
            "Index :  7920\n",
            "Percentage :  990\n"
          ],
          "name": "stdout"
        }
      ]
    },
    {
      "cell_type": "markdown",
      "metadata": {
        "id": "k_cQ5s_kCWLq"
      },
      "source": [
        "Gender"
      ]
    },
    {
      "cell_type": "code",
      "metadata": {
        "colab": {
          "base_uri": "https://localhost:8080/"
        },
        "id": "6R-wl-_SCY3p",
        "outputId": "4f4e397d-163b-47a1-d946-c2015950aec5"
      },
      "source": [
        "gender01_labelsy, gender01_labelsy_backup, gender01_index, gender01_per = complete_propagation(N11, 'gender', 1e-3, 0.1)\n",
        "print(\"Labels Y : \", gender01_labelsy)\n",
        "print(\"Labels Y back : \", gender01_labelsy_backup)\n",
        "print(\"Index : \", gender01_index)\n",
        "print(\"Percentage : \", gender01_per)"
      ],
      "execution_count": 120,
      "outputs": [
        {
          "output_type": "stream",
          "text": [
            "Labels Y :  [[0.         0.28571429 0.71428571]\n",
            " [0.         0.         1.        ]\n",
            " [0.         1.         0.        ]\n",
            " ...\n",
            " [0.         0.69867134 0.30132866]\n",
            " [0.         0.         1.        ]\n",
            " [0.         1.         0.        ]]\n",
            "Labels Y back :  [[0. 0. 0.]\n",
            " [0. 0. 1.]\n",
            " [0. 1. 0.]\n",
            " ...\n",
            " [0. 0. 0.]\n",
            " [0. 0. 1.]\n",
            " [0. 1. 0.]]\n",
            "Index :  1980\n",
            "Percentage :  990\n"
          ],
          "name": "stdout"
        }
      ]
    },
    {
      "cell_type": "markdown",
      "metadata": {
        "id": "h50z6FhPEo48"
      },
      "source": [
        "#### 20% \n",
        "\n",
        "\n",
        "1.   Dorm\n",
        "2.   Major\n",
        "2.   Gender\n",
        "\n"
      ]
    },
    {
      "cell_type": "markdown",
      "metadata": {
        "id": "hglwK6AqEo49"
      },
      "source": [
        "Dorm"
      ]
    },
    {
      "cell_type": "code",
      "metadata": {
        "colab": {
          "base_uri": "https://localhost:8080/"
        },
        "id": "D-d2_tPpEo4-",
        "outputId": "ee18057a-5838-4f47-837f-15d2c7638cbb"
      },
      "source": [
        "dorm02_labelsy, dorm02_labelsy_backup, dorm02_index, dorm02_per = complete_propagation(N11, 'dorm', 1e-3, 0.2)\n",
        "print(\"Labels Y : \", dorm02_labelsy)\n",
        "print(\"Labels Y back : \", dorm02_labelsy_backup)\n",
        "print(\"Index : \", dorm02_index)\n",
        "print(\"Percentage : \", dorm02_per)"
      ],
      "execution_count": 124,
      "outputs": [
        {
          "output_type": "stream",
          "text": [
            "Labels Y :  [[0.         0.00090894 0.00130763 ... 0.00209476 0.00011023 0.00087202]\n",
            " [0.         0.         0.         ... 0.         0.         0.        ]\n",
            " [0.         0.         0.         ... 0.         0.         0.        ]\n",
            " ...\n",
            " [0.         0.00087833 0.00247982 ... 0.0008782  0.00034251 0.00058387]\n",
            " [0.         0.         0.         ... 0.         0.         0.        ]\n",
            " [0.         0.00599869 0.00216788 ... 0.00136796 0.00043567 0.00698329]]\n",
            "Labels Y back :  [[0. 0. 0. ... 0. 0. 0.]\n",
            " [0. 0. 0. ... 0. 0. 0.]\n",
            " [0. 0. 0. ... 0. 0. 0.]\n",
            " ...\n",
            " [0. 0. 0. ... 0. 0. 0.]\n",
            " [0. 0. 0. ... 0. 0. 0.]\n",
            " [0. 0. 0. ... 0. 0. 0.]]\n",
            "Index :  3958\n",
            "Percentage :  1979\n"
          ],
          "name": "stdout"
        }
      ]
    },
    {
      "cell_type": "markdown",
      "metadata": {
        "id": "fRW16T8iEo5B"
      },
      "source": [
        "Major"
      ]
    },
    {
      "cell_type": "code",
      "metadata": {
        "colab": {
          "base_uri": "https://localhost:8080/"
        },
        "id": "Bi152VD7Eo5C",
        "outputId": "3e2cc056-0ea2-45e2-ed9a-9848738d52d4"
      },
      "source": [
        "major02_labelsy, major02_labelsy_backup, major02_index, major02_per = complete_propagation(N11, 'major_index', 1e-3, 0.2)\n",
        "print(\"Labels Y : \", major02_labelsy)\n",
        "print(\"Labels Y back : \", major02_labelsy_backup)\n",
        "print(\"Index : \", major02_index)\n",
        "print(\"Percentage : \", major02_per)"
      ],
      "execution_count": 125,
      "outputs": [
        {
          "output_type": "stream",
          "text": [
            "Labels Y :  [[0.00000000e+00 1.11657860e-04 1.88352209e-04 ... 6.89298880e-04\n",
            "  8.98155155e-06 3.59313442e-06]\n",
            " [0.00000000e+00 6.17201881e-04 8.96815548e-03 ... 3.07196617e-04\n",
            "  1.34073052e-05 5.86605491e-06]\n",
            " [0.00000000e+00 3.09531651e-02 1.26213559e-03 ... 4.95921893e-03\n",
            "  1.07207317e-04 4.26431845e-05]\n",
            " ...\n",
            " [0.00000000e+00 1.07025428e-03 6.84213660e-04 ... 1.15997911e-03\n",
            "  1.65802879e-05 1.61823951e-05]\n",
            " [0.00000000e+00 0.00000000e+00 0.00000000e+00 ... 0.00000000e+00\n",
            "  0.00000000e+00 0.00000000e+00]\n",
            " [0.00000000e+00 0.00000000e+00 0.00000000e+00 ... 0.00000000e+00\n",
            "  0.00000000e+00 0.00000000e+00]]\n",
            "Labels Y back :  [[0. 0. 0. ... 0. 0. 0.]\n",
            " [0. 0. 0. ... 0. 0. 0.]\n",
            " [0. 0. 0. ... 0. 0. 0.]\n",
            " ...\n",
            " [0. 0. 0. ... 0. 0. 0.]\n",
            " [0. 0. 0. ... 0. 0. 0.]\n",
            " [0. 0. 0. ... 0. 0. 0.]]\n",
            "Index :  0\n",
            "Percentage :  1979\n"
          ],
          "name": "stdout"
        }
      ]
    },
    {
      "cell_type": "markdown",
      "metadata": {
        "id": "QZ9L14MaEo5D"
      },
      "source": [
        "Gender"
      ]
    },
    {
      "cell_type": "code",
      "metadata": {
        "colab": {
          "base_uri": "https://localhost:8080/"
        },
        "id": "IHIL96JUEo5E",
        "outputId": "c220bb92-9e60-44c4-ab3e-2f954c6cd3da"
      },
      "source": [
        "gender02_labelsy, gender02_labelsy_backup, gender02_index, gender02_per = complete_propagation(N11, 'gender', 1e-3, 0.2)\n",
        "print(\"Labels Y : \", gender02_labelsy)\n",
        "print(\"Labels Y back : \", gender02_labelsy_backup)\n",
        "print(\"Index : \", gender02_index)\n",
        "print(\"Percentage : \", gender02_per)"
      ],
      "execution_count": 126,
      "outputs": [
        {
          "output_type": "stream",
          "text": [
            "Labels Y :  [[0.         0.38760607 0.61239393]\n",
            " [0.         0.         1.        ]\n",
            " [0.         1.         0.        ]\n",
            " ...\n",
            " [0.         0.72321437 0.27678563]\n",
            " [0.         0.         1.        ]\n",
            " [0.         1.         0.        ]]\n",
            "Labels Y back :  [[0. 0. 0.]\n",
            " [0. 0. 1.]\n",
            " [0. 1. 0.]\n",
            " ...\n",
            " [0. 0. 0.]\n",
            " [0. 0. 1.]\n",
            " [0. 1. 0.]]\n",
            "Index :  3958\n",
            "Percentage :  1979\n"
          ],
          "name": "stdout"
        }
      ]
    },
    {
      "cell_type": "markdown",
      "metadata": {
        "id": "CnZaGjjlF_7c"
      },
      "source": [
        "#### 30% \n",
        "\n",
        "\n",
        "1.   Dorm\n",
        "2.   Major\n",
        "2.   Gender\n",
        "\n"
      ]
    },
    {
      "cell_type": "markdown",
      "metadata": {
        "id": "crIgBT28F_7e"
      },
      "source": [
        "Dorm"
      ]
    },
    {
      "cell_type": "code",
      "metadata": {
        "colab": {
          "base_uri": "https://localhost:8080/"
        },
        "id": "lctrRUeJF_7f",
        "outputId": "52085fcd-a2fa-4744-f3cf-ff528f284fbe"
      },
      "source": [
        "dorm03_labelsy, dorm03_labelsy_backup, dorm03_index, dorm03_per = complete_propagation(N11, 'dorm', 1e-3, 0.3)\n",
        "print(\"Labels Y : \", dorm03_labelsy)\n",
        "print(\"Labels Y back : \", dorm03_labelsy_backup)\n",
        "print(\"Index : \", dorm03_index)\n",
        "print(\"Percentage : \", dorm03_per)"
      ],
      "execution_count": 132,
      "outputs": [
        {
          "output_type": "stream",
          "text": [
            "Labels Y :  [[0.         0.00121866 0.00442899 ... 0.00186336 0.00116018 0.00067106]\n",
            " [0.         0.00140078 0.00124817 ... 0.00610269 0.00149233 0.00073884]\n",
            " [0.         0.00314346 0.0081665  ... 0.00808415 0.00625024 0.00245191]\n",
            " ...\n",
            " [0.         0.00132877 0.00520043 ... 0.00193247 0.00219444 0.00081625]\n",
            " [0.         0.         0.         ... 0.         0.         0.        ]\n",
            " [0.         0.00279002 0.00328015 ... 0.00203134 0.01773794 0.00270503]]\n",
            "Labels Y back :  [[0. 0. 0. ... 0. 0. 0.]\n",
            " [0. 0. 0. ... 0. 0. 0.]\n",
            " [0. 0. 0. ... 0. 0. 0.]\n",
            " ...\n",
            " [0. 0. 0. ... 0. 0. 0.]\n",
            " [0. 0. 0. ... 0. 0. 0.]\n",
            " [0. 0. 0. ... 0. 0. 0.]]\n",
            "Index :  0\n",
            "Percentage :  2969\n"
          ],
          "name": "stdout"
        }
      ]
    },
    {
      "cell_type": "markdown",
      "metadata": {
        "id": "WpkoVSxmF_7f"
      },
      "source": [
        "Major"
      ]
    },
    {
      "cell_type": "code",
      "metadata": {
        "colab": {
          "base_uri": "https://localhost:8080/"
        },
        "id": "julxb4RyF_7g",
        "outputId": "2fc52ed5-770f-4473-ddf0-0eafc2e5a1ea"
      },
      "source": [
        "major03_labelsy, major03_labelsy_backup, major03_index, major03_per = complete_propagation(N11, 'major_index', 1e-3, 0.3)\n",
        "print(\"Labels Y : \", major03_labelsy)\n",
        "print(\"Labels Y back : \", major03_labelsy_backup)\n",
        "print(\"Index : \", major03_index)\n",
        "print(\"Percentage : \", major03_per)"
      ],
      "execution_count": 133,
      "outputs": [
        {
          "output_type": "stream",
          "text": [
            "Labels Y :  [[0.00000000e+00 6.38082996e-03 3.54257374e-04 ... 3.67868148e-04\n",
            "  2.31042781e-05 2.08817344e-05]\n",
            " [0.00000000e+00 0.00000000e+00 0.00000000e+00 ... 0.00000000e+00\n",
            "  0.00000000e+00 0.00000000e+00]\n",
            " [0.00000000e+00 0.00000000e+00 0.00000000e+00 ... 0.00000000e+00\n",
            "  0.00000000e+00 0.00000000e+00]\n",
            " ...\n",
            " [0.00000000e+00 1.73341433e-03 4.36913201e-02 ... 1.40961247e-03\n",
            "  1.50917496e-05 2.89406244e-05]\n",
            " [0.00000000e+00 0.00000000e+00 0.00000000e+00 ... 0.00000000e+00\n",
            "  0.00000000e+00 0.00000000e+00]\n",
            " [0.00000000e+00 0.00000000e+00 0.00000000e+00 ... 0.00000000e+00\n",
            "  0.00000000e+00 0.00000000e+00]]\n",
            "Labels Y back :  [[0. 0. 0. ... 0. 0. 0.]\n",
            " [0. 0. 0. ... 0. 0. 0.]\n",
            " [0. 0. 0. ... 0. 0. 0.]\n",
            " ...\n",
            " [0. 0. 0. ... 0. 0. 0.]\n",
            " [0. 0. 0. ... 0. 0. 0.]\n",
            " [0. 0. 0. ... 0. 0. 0.]]\n",
            "Index :  2969\n",
            "Percentage :  2969\n"
          ],
          "name": "stdout"
        }
      ]
    },
    {
      "cell_type": "markdown",
      "metadata": {
        "id": "xQYdK_QTF_7h"
      },
      "source": [
        "Gender"
      ]
    },
    {
      "cell_type": "code",
      "metadata": {
        "id": "Fcl4clmOF_7h",
        "colab": {
          "base_uri": "https://localhost:8080/"
        },
        "outputId": "30be227a-d27f-4ff9-b756-ffc0b495bc68"
      },
      "source": [
        "gender03_labelsy, gender03_labelsy_backup, gender03_index, gender03_per = complete_propagation(N11, 'gender', 1e-3, 0.3)\n",
        "print(\"Labels Y : \", gender03_labelsy)\n",
        "print(\"Labels Y back : \", gender03_labelsy_backup)\n",
        "print(\"Index : \", gender03_index)\n",
        "print(\"Percentage : \", gender03_per)"
      ],
      "execution_count": 134,
      "outputs": [
        {
          "output_type": "stream",
          "text": [
            "Labels Y :  [[0.         0.4282558  0.5717442 ]\n",
            " [0.         0.         1.        ]\n",
            " [0.         1.         0.        ]\n",
            " ...\n",
            " [0.         0.63918658 0.36081341]\n",
            " [0.         0.         1.        ]\n",
            " [0.         1.         0.        ]]\n",
            "Labels Y back :  [[0. 0. 0.]\n",
            " [0. 0. 1.]\n",
            " [0. 1. 0.]\n",
            " ...\n",
            " [0. 0. 0.]\n",
            " [0. 0. 1.]\n",
            " [0. 1. 0.]]\n",
            "Index :  5938\n",
            "Percentage :  2969\n"
          ],
          "name": "stdout"
        }
      ]
    },
    {
      "cell_type": "markdown",
      "metadata": {
        "id": "7LImdi_WHc4u"
      },
      "source": [
        "### D\n",
        "**(d)  For each cases of the following percentage of missing attributes: 10%, 20% and 30% and for each of the following attributes: the ”dorm”, ”major”, ”gender” show the mean absolute error and accuracy [5] of the label propagation algorithm as in the example provided in Table 1 for the Duke university Facebook network.**"
      ]
    },
    {
      "cell_type": "code",
      "metadata": {
        "id": "HFqqzHFJIH0O"
      },
      "source": [
        "# Mean Absolute Error\n",
        "from sklearn.metrics import mean_absolute_error as mean_err\n",
        "\n",
        "# Get Accuracy\n",
        "\n",
        "def get_accuracy(label_predict, labely_backup, index, per):\n",
        "  # Get id labels\n",
        "  labels_id = (labely_backup.sum(axis=1) == 1)\n",
        "  prom = 0\n",
        "  count = index\n",
        "  tot = 0\n",
        "\n",
        "  while (count < (per + index)):\n",
        "    if (labels_id[count]):\n",
        "      tot = tot + 1\n",
        "      acc = 0\n",
        "      greater_val = 0\n",
        "      for value in labely_backup[count]:\n",
        "        if value != 0:\n",
        "          break;\n",
        "        acc = acc + 1\n",
        "      for value in label_predict[count]:\n",
        "        if value > greater_val:\n",
        "          greater_val = value\n",
        "      if (label_predict[count][acc] >= (1 /(len(label_predict[count]) -1)) and label_predict[count][acc] >= greater_val):\n",
        "        prom = prom + 1\n",
        "    count = count + 1\n",
        "  return prom/tot"
      ],
      "execution_count": 135,
      "outputs": []
    },
    {
      "cell_type": "markdown",
      "metadata": {
        "id": "brgjGrjWqvuk"
      },
      "source": [
        "#### 10% Accuracy and Mean Absolute Error\n",
        "\n",
        "\n",
        "1.   Dorm\n",
        "2.   Major\n",
        "2.   Gender\n",
        "\n"
      ]
    },
    {
      "cell_type": "markdown",
      "metadata": {
        "id": "mLwNopVWqvuk"
      },
      "source": [
        "Dorm"
      ]
    },
    {
      "cell_type": "code",
      "metadata": {
        "colab": {
          "base_uri": "https://localhost:8080/"
        },
        "id": "VPijmvxGqvum",
        "outputId": "55ab6b97-fd3c-421d-ea20-bf2131ec5437"
      },
      "source": [
        "dorm01_accuracy = get_accuracy(dorm01_labelsy, dorm01_labelsy_backup, dorm01_index, dorm01_per)\n",
        "print(\"Accuracy : \", dorm01_accuracy)\n",
        "\n",
        "# Mean Absolute Error\n",
        "labels_id = (dorm01_labelsy_backup.sum(axis=1) == 1)\n",
        "print('Mean Absolute Error: ')\n",
        "mean_err(dorm01_labelsy_backup[labels_id], dorm01_labelsy[labels_id])"
      ],
      "execution_count": 136,
      "outputs": [
        {
          "output_type": "stream",
          "text": [
            "Accuracy :  0.5441595441595442\n",
            "Mean Absolute Error: \n"
          ],
          "name": "stdout"
        },
        {
          "output_type": "execute_result",
          "data": {
            "text/plain": [
              "0.0016687679171938118"
            ]
          },
          "metadata": {
            "tags": []
          },
          "execution_count": 136
        }
      ]
    },
    {
      "cell_type": "markdown",
      "metadata": {
        "id": "_vQe7aIeqvun"
      },
      "source": [
        "Major"
      ]
    },
    {
      "cell_type": "code",
      "metadata": {
        "colab": {
          "base_uri": "https://localhost:8080/"
        },
        "id": "NfUSV6bfqvuo",
        "outputId": "d6dc1fa4-8fed-4016-dca5-8e9eb47f7c53"
      },
      "source": [
        "major01_accuracy = get_accuracy(major01_labelsy, major01_labelsy_backup, major01_index, major01_per)\n",
        "print(\"Accuracy : \", major01_accuracy)\n",
        "\n",
        "# Mean Absolute Error\n",
        "labels_id = (major01_labelsy_backup.sum(axis=1) == 1)\n",
        "print('Mean Absolute Error: ')\n",
        "mean_err(major01_labelsy_backup[labels_id], major01_labelsy[labels_id])"
      ],
      "execution_count": 137,
      "outputs": [
        {
          "output_type": "stream",
          "text": [
            "Accuracy :  0.26962025316455696\n",
            "Mean Absolute Error: \n"
          ],
          "name": "stdout"
        },
        {
          "output_type": "execute_result",
          "data": {
            "text/plain": [
              "0.003294168266075945"
            ]
          },
          "metadata": {
            "tags": []
          },
          "execution_count": 137
        }
      ]
    },
    {
      "cell_type": "markdown",
      "metadata": {
        "id": "HrrioNuWqvuq"
      },
      "source": [
        "Gender"
      ]
    },
    {
      "cell_type": "code",
      "metadata": {
        "colab": {
          "base_uri": "https://localhost:8080/"
        },
        "id": "N48GjTJuqvur",
        "outputId": "0af44962-d423-4587-d5ff-fd5fe89bd5a5"
      },
      "source": [
        "gender01_accuracy = get_accuracy(gender01_labelsy, gender01_labelsy_backup, gender01_index, gender01_per)\n",
        "print(\"Accuracy : \", gender01_accuracy)\n",
        "\n",
        "# Mean Absolute Error\n",
        "labels_id = (gender01_labelsy_backup.sum(axis=1) == 1)\n",
        "print('Mean Absolute Error: ')\n",
        "mean_err(gender01_labelsy_backup[labels_id], gender01_labelsy[labels_id])"
      ],
      "execution_count": 138,
      "outputs": [
        {
          "output_type": "stream",
          "text": [
            "Accuracy :  0.6792452830188679\n",
            "Mean Absolute Error: \n"
          ],
          "name": "stdout"
        },
        {
          "output_type": "execute_result",
          "data": {
            "text/plain": [
              "0.03309362307196345"
            ]
          },
          "metadata": {
            "tags": []
          },
          "execution_count": 138
        }
      ]
    },
    {
      "cell_type": "markdown",
      "metadata": {
        "id": "S1GLNFavEykI"
      },
      "source": [
        "#### 20% Accuracy and Mean Absolute Error\n",
        "\n",
        "\n",
        "1.   Dorm\n",
        "2.   Major\n",
        "2.   Gender\n",
        "\n"
      ]
    },
    {
      "cell_type": "markdown",
      "metadata": {
        "id": "nRSr4peREykK"
      },
      "source": [
        "Dorm"
      ]
    },
    {
      "cell_type": "code",
      "metadata": {
        "colab": {
          "base_uri": "https://localhost:8080/"
        },
        "id": "09iZns-gEykM",
        "outputId": "62bf42ce-4536-48e5-e9f5-9c266b31c512"
      },
      "source": [
        "dorm02_accuracy = get_accuracy(dorm02_labelsy, dorm02_labelsy_backup, dorm02_index, dorm02_per)\n",
        "print(\"Accuracy : \", dorm02_accuracy)\n",
        "\n",
        "# Mean Absolute Error\n",
        "labels_id = (dorm02_labelsy_backup.sum(axis=1) == 1)\n",
        "print('Mean Absolute Error: ')\n",
        "mean_err(dorm02_labelsy_backup[labels_id], dorm02_labelsy[labels_id])"
      ],
      "execution_count": 139,
      "outputs": [
        {
          "output_type": "stream",
          "text": [
            "Accuracy :  0.5108695652173914\n",
            "Mean Absolute Error: \n"
          ],
          "name": "stdout"
        },
        {
          "output_type": "execute_result",
          "data": {
            "text/plain": [
              "0.00343400582309567"
            ]
          },
          "metadata": {
            "tags": []
          },
          "execution_count": 139
        }
      ]
    },
    {
      "cell_type": "markdown",
      "metadata": {
        "id": "vl5BWdzaEykN"
      },
      "source": [
        "Major"
      ]
    },
    {
      "cell_type": "code",
      "metadata": {
        "colab": {
          "base_uri": "https://localhost:8080/"
        },
        "id": "DOuzA0gjEykP",
        "outputId": "099b4058-9a97-42d7-c6ed-5e5e1a1be846"
      },
      "source": [
        "major02_accuracy = get_accuracy(major02_labelsy, major02_labelsy_backup, major02_index, major02_per)\n",
        "print(\"Accuracy : \", major02_accuracy)\n",
        "\n",
        "# Mean Absolute Error\n",
        "labels_id = (major02_labelsy_backup.sum(axis=1) == 1)\n",
        "print('Mean Absolute Error: ')\n",
        "mean_err(major02_labelsy_backup[labels_id], major02_labelsy[labels_id])"
      ],
      "execution_count": 140,
      "outputs": [
        {
          "output_type": "stream",
          "text": [
            "Accuracy :  0.2531486146095718\n",
            "Mean Absolute Error: \n"
          ],
          "name": "stdout"
        },
        {
          "output_type": "execute_result",
          "data": {
            "text/plain": [
              "0.0066341132805233325"
            ]
          },
          "metadata": {
            "tags": []
          },
          "execution_count": 140
        }
      ]
    },
    {
      "cell_type": "markdown",
      "metadata": {
        "id": "y0QVXIqYEykP"
      },
      "source": [
        "Gender"
      ]
    },
    {
      "cell_type": "code",
      "metadata": {
        "colab": {
          "base_uri": "https://localhost:8080/"
        },
        "id": "GtBOOYBUEykQ",
        "outputId": "5180d83c-22a0-47ad-a27e-275c49397328"
      },
      "source": [
        "gender02_accuracy = get_accuracy(gender02_labelsy, gender02_labelsy_backup, gender02_index, gender02_per)\n",
        "print(\"Accuracy : \", gender02_accuracy)\n",
        "\n",
        "# Mean Absolute Error\n",
        "labels_id = (gender02_labelsy_backup.sum(axis=1) == 1)\n",
        "print('Mean Absolute Error: ')\n",
        "mean_err(gender02_labelsy_backup[labels_id], gender02_labelsy[labels_id])"
      ],
      "execution_count": 141,
      "outputs": [
        {
          "output_type": "stream",
          "text": [
            "Accuracy :  0.6675977653631285\n",
            "Mean Absolute Error: \n"
          ],
          "name": "stdout"
        },
        {
          "output_type": "execute_result",
          "data": {
            "text/plain": [
              "0.0656887619134028"
            ]
          },
          "metadata": {
            "tags": []
          },
          "execution_count": 141
        }
      ]
    },
    {
      "cell_type": "markdown",
      "metadata": {
        "id": "k_nWjBnIFDUo"
      },
      "source": [
        "#### 30% Accuracy and Mean Absolute Error\n",
        "\n",
        "\n",
        "1.   Dorm\n",
        "2.   Major\n",
        "2.   Gender\n",
        "\n"
      ]
    },
    {
      "cell_type": "markdown",
      "metadata": {
        "id": "AeZg6yFGFDUp"
      },
      "source": [
        "Dorm"
      ]
    },
    {
      "cell_type": "code",
      "metadata": {
        "colab": {
          "base_uri": "https://localhost:8080/"
        },
        "id": "vnS7rTXMFDUq",
        "outputId": "aa79bfdc-850d-494a-b404-d44fcca3c60f"
      },
      "source": [
        "dorm03_accuracy = get_accuracy(dorm03_labelsy, dorm03_labelsy_backup, dorm03_index, dorm03_per)\n",
        "print(\"Accuracy : \", dorm03_accuracy)\n",
        "\n",
        "# Mean Absolute Error\n",
        "labels_id = (dorm03_labelsy_backup.sum(axis=1) == 1)\n",
        "print('Mean Absolute Error: ')\n",
        "mean_err(dorm03_labelsy_backup[labels_id], dorm03_labelsy[labels_id])"
      ],
      "execution_count": 142,
      "outputs": [
        {
          "output_type": "stream",
          "text": [
            "Accuracy :  0.49834358731661144\n",
            "Mean Absolute Error: \n"
          ],
          "name": "stdout"
        },
        {
          "output_type": "execute_result",
          "data": {
            "text/plain": [
              "0.005250074507697139"
            ]
          },
          "metadata": {
            "tags": []
          },
          "execution_count": 142
        }
      ]
    },
    {
      "cell_type": "markdown",
      "metadata": {
        "id": "ciqctcJkFDUs"
      },
      "source": [
        "Major"
      ]
    },
    {
      "cell_type": "code",
      "metadata": {
        "colab": {
          "base_uri": "https://localhost:8080/"
        },
        "id": "O9bXkia1FDUt",
        "outputId": "99b7d879-e502-4baa-ae99-e6a762be2814"
      },
      "source": [
        "major03_accuracy = get_accuracy(major03_labelsy, major03_labelsy_backup, major03_index, major03_per)\n",
        "print(\"Accuracy : \", major03_accuracy)\n",
        "\n",
        "# Mean Absolute Error\n",
        "labels_id = (major03_labelsy_backup.sum(axis=1) == 1)\n",
        "print('Mean Absolute Error: ')\n",
        "mean_err(major03_labelsy_backup[labels_id], major03_labelsy[labels_id])"
      ],
      "execution_count": 143,
      "outputs": [
        {
          "output_type": "stream",
          "text": [
            "Accuracy :  0.25754356141096474\n",
            "Mean Absolute Error: \n"
          ],
          "name": "stdout"
        },
        {
          "output_type": "execute_result",
          "data": {
            "text/plain": [
              "0.00991025139908595"
            ]
          },
          "metadata": {
            "tags": []
          },
          "execution_count": 143
        }
      ]
    },
    {
      "cell_type": "markdown",
      "metadata": {
        "id": "QwVQmSFhFDUu"
      },
      "source": [
        "Gender"
      ]
    },
    {
      "cell_type": "code",
      "metadata": {
        "colab": {
          "base_uri": "https://localhost:8080/"
        },
        "id": "vbe_Z4rQFDUw",
        "outputId": "ff9b9d5d-102e-4364-9ea6-e3bbfacf4414"
      },
      "source": [
        "gender03_accuracy = get_accuracy(gender03_labelsy, gender03_labelsy_backup, gender03_index, gender03_per)\n",
        "print(\"Accuracy : \", gender03_accuracy)\n",
        "\n",
        "# Mean Absolute Error\n",
        "labels_id = (gender03_labelsy_backup.sum(axis=1) == 1)\n",
        "print('Mean Absolute Error: ')\n",
        "mean_err(gender03_labelsy_backup[labels_id], gender03_labelsy[labels_id])"
      ],
      "execution_count": 144,
      "outputs": [
        {
          "output_type": "stream",
          "text": [
            "Accuracy :  0.6773717238833518\n",
            "Mean Absolute Error: \n"
          ],
          "name": "stdout"
        },
        {
          "output_type": "execute_result",
          "data": {
            "text/plain": [
              "0.09871172071968497"
            ]
          },
          "metadata": {
            "tags": []
          },
          "execution_count": 144
        }
      ]
    },
    {
      "cell_type": "markdown",
      "metadata": {
        "id": "a0pu2YoLMTo0"
      },
      "source": [
        "#### Displaying results\n",
        "![Homework-results](https://raw.githubusercontent.com/JazzDesign/homework-YeissonchicasNet7431/master/src/results-homework.png)"
      ]
    },
    {
      "cell_type": "code",
      "metadata": {
        "colab": {
          "base_uri": "https://localhost:8080/"
        },
        "id": "PMXp7r6RNj1W",
        "outputId": "5cb4fafd-d36a-4f3c-849f-bc22850517dd"
      },
      "source": [
        "# Display results\n",
        "\n",
        "print(\"Major 01: \", major01_accuracy)\n",
        "print(\"Major 02: \", major02_accuracy)\n",
        "print(\"Major 03: \", major03_accuracy)\n",
        "print(\"\\n\")\n",
        "print(\"Dorm 01: \", dorm01_accuracy)\n",
        "print(\"Dorm 02: \", dorm02_accuracy)\n",
        "print(\"Dorm 03: \", dorm03_accuracy)\n",
        "print(\"\\n\")\n",
        "print(\"Gender 01: \", gender01_accuracy)\n",
        "print(\"Gender 02: \", gender02_accuracy)\n",
        "print(\"Gender 03: \", gender03_accuracy)"
      ],
      "execution_count": 147,
      "outputs": [
        {
          "output_type": "stream",
          "text": [
            "Major 01:  0.26962025316455696\n",
            "Major 02:  0.2531486146095718\n",
            "Major 03:  0.25754356141096474\n",
            "\n",
            "\n",
            "Dorm 01:  0.5441595441595442\n",
            "Dorm 02:  0.5108695652173914\n",
            "Dorm 03:  0.49834358731661144\n",
            "\n",
            "\n",
            "Gender 01:  0.6792452830188679\n",
            "Gender 02:  0.6675977653631285\n",
            "Gender 03:  0.6773717238833518\n"
          ],
          "name": "stdout"
        }
      ]
    },
    {
      "cell_type": "markdown",
      "metadata": {
        "id": "vUJozCmqO0iY"
      },
      "source": [
        "### E\n",
        "**Conclude on the accuracy of the label propagation algorithm for the different labels, could you explain why there is such difference in accuracy between each labels ?**\n",
        "\n",
        "Answer:\n",
        "\n",
        "\n",
        "\n",
        "*   An interesting analysis and behavior in performing the data calculations, we can see that the results depend heavily on the data and the way the algorithm works. The labels cause noticeable changes within the results, for example, some of the aspects being evaluated contained few labels, which is why they have different results. If we perform the calculations with more data, we could get more accurate results.\n",
        "\n"
      ]
    }
  ]
}